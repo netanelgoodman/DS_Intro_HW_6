{
 "cells": [
  {
   "cell_type": "code",
   "execution_count": 21,
   "id": "442542c2",
   "metadata": {},
   "outputs": [],
   "source": [
    "import pandas as pd\n",
    "import numpy as np\n",
    "import re"
   ]
  },
  {
   "cell_type": "code",
   "execution_count": 22,
   "id": "68fd9389",
   "metadata": {},
   "outputs": [],
   "source": [
    "df = pd.read_csv('LP_destinations.csv',encoding='ISO-8859-1') "
   ]
  },
  {
   "cell_type": "code",
   "execution_count": 23,
   "id": "158078f4",
   "metadata": {},
   "outputs": [],
   "source": [
    "num_words = []\n",
    "clean_dec = []\n",
    "resturants = []\n",
    "museums = []\n",
    "beaches = []\n",
    "for index, row in df.iterrows():\n",
    "    desc = row['desc']\n",
    "    count_resturants = desc.count('restaurant')\n",
    "    count_museums = desc.count ('museum')\n",
    "    count_beaches = desc.count ('beach') + desc.count ('ocean') + desc.count ('sea')\n",
    "    desc2 = re.sub(r'[^\\w\\s]', '', row['desc'].strip())\n",
    "    word_list = desc.split()\n",
    "    number_of_words = len(word_list)\n",
    "    num_words.append (number_of_words)\n",
    "    clean_dec.append (desc2)\n",
    "    resturants.append (count_resturants)\n",
    "    museums.append (count_museums)\n",
    "    beaches.append (count_beaches)"
   ]
  },
  {
   "cell_type": "code",
   "execution_count": 24,
   "id": "c1c1ce99",
   "metadata": {},
   "outputs": [],
   "source": [
    "df.insert (3,\"num_of_words\", num_words, True)\n",
    "df.insert (4,\"No_punct_description\", clean_dec, True)\n",
    "df.insert (5,\"has_restaurants\", resturants, True)\n",
    "df.insert (6,\"has_museums\", museums, True)\n",
    "df.insert (7,\"has_beaches\", beaches, True)"
   ]
  },
  {
   "cell_type": "code",
   "execution_count": 25,
   "id": "9fc6840e",
   "metadata": {},
   "outputs": [
    {
     "data": {
      "text/html": [
       "<div>\n",
       "<style scoped>\n",
       "    .dataframe tbody tr th:only-of-type {\n",
       "        vertical-align: middle;\n",
       "    }\n",
       "\n",
       "    .dataframe tbody tr th {\n",
       "        vertical-align: top;\n",
       "    }\n",
       "\n",
       "    .dataframe thead th {\n",
       "        text-align: right;\n",
       "    }\n",
       "</style>\n",
       "<table border=\"1\" class=\"dataframe\">\n",
       "  <thead>\n",
       "    <tr style=\"text-align: right;\">\n",
       "      <th></th>\n",
       "      <th>city</th>\n",
       "      <th>country</th>\n",
       "      <th>desc</th>\n",
       "      <th>num_of_words</th>\n",
       "      <th>No_punct_description</th>\n",
       "      <th>has_restaurants</th>\n",
       "      <th>has_museums</th>\n",
       "      <th>has_beaches</th>\n",
       "    </tr>\n",
       "  </thead>\n",
       "  <tbody>\n",
       "    <tr>\n",
       "      <th>0</th>\n",
       "      <td>Antalya</td>\n",
       "      <td>Turkey</td>\n",
       "      <td>Once seen simply as the gateway to the Turkish...</td>\n",
       "      <td>112</td>\n",
       "      <td>Once seen simply as the gateway to the Turkish...</td>\n",
       "      <td>0</td>\n",
       "      <td>1</td>\n",
       "      <td>1</td>\n",
       "    </tr>\n",
       "    <tr>\n",
       "      <th>1</th>\n",
       "      <td>Athens</td>\n",
       "      <td>Greece</td>\n",
       "      <td>With equal measures of grunge and grace, Athen...</td>\n",
       "      <td>393</td>\n",
       "      <td>With equal measures of grunge and grace Athens...</td>\n",
       "      <td>1</td>\n",
       "      <td>0</td>\n",
       "      <td>2</td>\n",
       "    </tr>\n",
       "    <tr>\n",
       "      <th>2</th>\n",
       "      <td>Ayia-napa</td>\n",
       "      <td>Cyprus</td>\n",
       "      <td>Endless blue-sky days and a coastline riddled ...</td>\n",
       "      <td>147</td>\n",
       "      <td>Endless bluesky days and a coastline riddled w...</td>\n",
       "      <td>0</td>\n",
       "      <td>0</td>\n",
       "      <td>2</td>\n",
       "    </tr>\n",
       "    <tr>\n",
       "      <th>3</th>\n",
       "      <td>Bangkok</td>\n",
       "      <td>Thailand</td>\n",
       "      <td>Same same, but different. This Thailish T-shir...</td>\n",
       "      <td>401</td>\n",
       "      <td>Same same but different This Thailish Tshirt p...</td>\n",
       "      <td>1</td>\n",
       "      <td>0</td>\n",
       "      <td>0</td>\n",
       "    </tr>\n",
       "    <tr>\n",
       "      <th>4</th>\n",
       "      <td>Barcelona</td>\n",
       "      <td>Spain</td>\n",
       "      <td>Barcelona is an enchanting seaside city with b...</td>\n",
       "      <td>428</td>\n",
       "      <td>Barcelona is an enchanting seaside city with b...</td>\n",
       "      <td>1</td>\n",
       "      <td>2</td>\n",
       "      <td>7</td>\n",
       "    </tr>\n",
       "    <tr>\n",
       "      <th>...</th>\n",
       "      <td>...</td>\n",
       "      <td>...</td>\n",
       "      <td>...</td>\n",
       "      <td>...</td>\n",
       "      <td>...</td>\n",
       "      <td>...</td>\n",
       "      <td>...</td>\n",
       "      <td>...</td>\n",
       "    </tr>\n",
       "    <tr>\n",
       "      <th>71</th>\n",
       "      <td>Venice</td>\n",
       "      <td>Italy</td>\n",
       "      <td>Imagine the audacity of building a city of mar...</td>\n",
       "      <td>420</td>\n",
       "      <td>Imagine the audacity of building a city of mar...</td>\n",
       "      <td>0</td>\n",
       "      <td>0</td>\n",
       "      <td>2</td>\n",
       "    </tr>\n",
       "    <tr>\n",
       "      <th>72</th>\n",
       "      <td>Vienna</td>\n",
       "      <td>Austria</td>\n",
       "      <td>Baroque streetscapes and imperial palaces set ...</td>\n",
       "      <td>418</td>\n",
       "      <td>Baroque streetscapes and imperial palaces set ...</td>\n",
       "      <td>1</td>\n",
       "      <td>3</td>\n",
       "      <td>0</td>\n",
       "    </tr>\n",
       "    <tr>\n",
       "      <th>73</th>\n",
       "      <td>Warsaw</td>\n",
       "      <td>03</td>\n",
       "      <td>Error</td>\n",
       "      <td>1</td>\n",
       "      <td>Error</td>\n",
       "      <td>0</td>\n",
       "      <td>0</td>\n",
       "      <td>0</td>\n",
       "    </tr>\n",
       "    <tr>\n",
       "      <th>74</th>\n",
       "      <td>Zakynthos</td>\n",
       "      <td>Greece</td>\n",
       "      <td>Zakynthos, also known by its Italian name Zant...</td>\n",
       "      <td>118</td>\n",
       "      <td>Zakynthos also known by its Italian name Zante...</td>\n",
       "      <td>0</td>\n",
       "      <td>0</td>\n",
       "      <td>0</td>\n",
       "    </tr>\n",
       "    <tr>\n",
       "      <th>75</th>\n",
       "      <td>Zurich</td>\n",
       "      <td>Switzerland</td>\n",
       "      <td>Culturally vibrant, efficiently run and attrac...</td>\n",
       "      <td>119</td>\n",
       "      <td>Culturally vibrant efficiently run and attract...</td>\n",
       "      <td>0</td>\n",
       "      <td>0</td>\n",
       "      <td>0</td>\n",
       "    </tr>\n",
       "  </tbody>\n",
       "</table>\n",
       "<p>76 rows × 8 columns</p>\n",
       "</div>"
      ],
      "text/plain": [
       "         city      country                                               desc  \\\n",
       "0     Antalya       Turkey  Once seen simply as the gateway to the Turkish...   \n",
       "1      Athens       Greece  With equal measures of grunge and grace, Athen...   \n",
       "2   Ayia-napa       Cyprus  Endless blue-sky days and a coastline riddled ...   \n",
       "3     Bangkok     Thailand  Same same, but different. This Thailish T-shir...   \n",
       "4   Barcelona        Spain  Barcelona is an enchanting seaside city with b...   \n",
       "..        ...          ...                                                ...   \n",
       "71     Venice        Italy  Imagine the audacity of building a city of mar...   \n",
       "72     Vienna      Austria  Baroque streetscapes and imperial palaces set ...   \n",
       "73     Warsaw           03                                              Error   \n",
       "74  Zakynthos       Greece  Zakynthos, also known by its Italian name Zant...   \n",
       "75     Zurich  Switzerland  Culturally vibrant, efficiently run and attrac...   \n",
       "\n",
       "    num_of_words                               No_punct_description  \\\n",
       "0            112  Once seen simply as the gateway to the Turkish...   \n",
       "1            393  With equal measures of grunge and grace Athens...   \n",
       "2            147  Endless bluesky days and a coastline riddled w...   \n",
       "3            401  Same same but different This Thailish Tshirt p...   \n",
       "4            428  Barcelona is an enchanting seaside city with b...   \n",
       "..           ...                                                ...   \n",
       "71           420  Imagine the audacity of building a city of mar...   \n",
       "72           418  Baroque streetscapes and imperial palaces set ...   \n",
       "73             1                                              Error   \n",
       "74           118  Zakynthos also known by its Italian name Zante...   \n",
       "75           119  Culturally vibrant efficiently run and attract...   \n",
       "\n",
       "    has_restaurants  has_museums  has_beaches  \n",
       "0                 0            1            1  \n",
       "1                 1            0            2  \n",
       "2                 0            0            2  \n",
       "3                 1            0            0  \n",
       "4                 1            2            7  \n",
       "..              ...          ...          ...  \n",
       "71                0            0            2  \n",
       "72                1            3            0  \n",
       "73                0            0            0  \n",
       "74                0            0            0  \n",
       "75                0            0            0  \n",
       "\n",
       "[76 rows x 8 columns]"
      ]
     },
     "execution_count": 25,
     "metadata": {},
     "output_type": "execute_result"
    }
   ],
   "source": [
    "df"
   ]
  },
  {
   "cell_type": "code",
   "execution_count": 26,
   "id": "5857b3ff",
   "metadata": {},
   "outputs": [
    {
     "data": {
      "text/plain": [
       "227.64473684210526"
      ]
     },
     "execution_count": 26,
     "metadata": {},
     "output_type": "execute_result"
    }
   ],
   "source": [
    "df['num_of_words'].mean()"
   ]
  },
  {
   "cell_type": "code",
   "execution_count": 27,
   "id": "004f50b1",
   "metadata": {},
   "outputs": [
    {
     "data": {
      "text/plain": [
       "'Florence'"
      ]
     },
     "execution_count": 27,
     "metadata": {},
     "output_type": "execute_result"
    }
   ],
   "source": [
    "df.loc [df['num_of_words'].idxmax()]['city']"
   ]
  },
  {
   "cell_type": "code",
   "execution_count": 28,
   "id": "b1215c8e",
   "metadata": {},
   "outputs": [
    {
     "data": {
      "text/plain": [
       "array([[<AxesSubplot:title={'center':'num_of_words'}>]], dtype=object)"
      ]
     },
     "execution_count": 28,
     "metadata": {},
     "output_type": "execute_result"
    },
    {
     "data": {
      "image/png": "[encoded data removed]",
      "text/plain": [
       "<Figure size 432x288 with 1 Axes>"
      ]
     },
     "metadata": {
      "needs_background": "light"
     },
     "output_type": "display_data"
    }
   ],
   "source": [
    "df.hist (column = 'num_of_words')"
   ]
  },
  {
   "cell_type": "code",
   "execution_count": 29,
   "id": "2996b459",
   "metadata": {},
   "outputs": [
    {
     "data": {
      "text/plain": [
       "<AxesSubplot:title={'center':'The relationship between number of beaches and number of restaurants'}, xlabel='num_beaches', ylabel='num_restaurants'>"
      ]
     },
     "execution_count": 29,
     "metadata": {},
     "output_type": "execute_result"
    },
    {
     "data": {
      "image/png": "[encoded data removed]",
      "text/plain": [
       "<Figure size 432x288 with 1 Axes>"
      ]
     },
     "metadata": {
      "needs_background": "light"
     },
     "output_type": "display_data"
    }
   ],
   "source": [
    "df.plot.scatter(x='has_beaches', y='has_restaurants', c='DarkBlue', title = 'The relationship between number of beaches and number of restaurants', xlabel = 'num_beaches', ylabel = 'num_restaurants')"
   ]
  },
  {
   "cell_type": "code",
   "execution_count": 30,
   "id": "3cf5fb18",
   "metadata": {},
   "outputs": [
    {
     "data": {
      "text/plain": [
       "<AxesSubplot:title={'center':'The relationship between number of beaches and number of museums'}, xlabel='num_beaches', ylabel='num_museums'>"
      ]
     },
     "execution_count": 30,
     "metadata": {},
     "output_type": "execute_result"
    },
    {
     "data": {
      "image/png": "[encoded data removed]",
      "text/plain": [
       "<Figure size 432x288 with 1 Axes>"
      ]
     },
     "metadata": {
      "needs_background": "light"
     },
     "output_type": "display_data"
    }
   ],
   "source": [
    "df.plot.scatter(x='has_beaches', y='has_museums', c='DarkBlue', title = 'The relationship between number of beaches and number of museums', xlabel = 'num_beaches', ylabel = 'num_museums')"
   ]
  },
  {
   "cell_type": "code",
   "execution_count": null,
   "id": "07151b92",
   "metadata": {},
   "outputs": [],
   "source": []
  }
 ],
 "metadata": {
  "kernelspec": {
   "display_name": "Python 3 (ipykernel)",
   "language": "python",
   "name": "python3"
  },
  "language_info": {
   "codemirror_mode": {
    "name": "ipython",
    "version": 3
   },
   "file_extension": ".py",
   "mimetype": "text/x-python",
   "name": "python",
   "nbconvert_exporter": "python",
   "pygments_lexer": "ipython3",
   "version": "3.9.7"
  }
 },
 "nbformat": 4,
 "nbformat_minor": 5
}
